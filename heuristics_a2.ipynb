{
 "cells": [
  {
   "cell_type": "markdown",
   "metadata": {},
   "source": [
    "## Com base nos problemas estudados no Trabalho1, escolher um problema da categoria NP da sua preferência e realize as seguintes tarefas:\n",
    "Eu esolhi solucionar o clássico problema do caixeiro viajante. Especificamente inpirado no dataset [ca4636](https://www.math.uwaterloo.ca/tsp/world/calog.html) que trás 4.636 cidades canadenses com o objetivo de encontrar o caminho mais curto por todas elas. Aqui consideramos todos os nós como interligados com a distância eucliadiana como o custo de cada aresta entre duas cidades. \n",
    "\n",
    "\n",
    "\n",
    "#### i) Propor e implementar uma heurística construtiva para achar uma solução inicial para o problema escolhido. Descrever a representação da sua solução e seu método construtivo e implemente.\n",
    "Considerando que todas as cidades são virtualmente acessíveis entre si, como método construtivo utilizaei apenas uma permutação aleatória das cidades para construir um caminho inicial. A representação das cidades se dá por um dicionário com índices como chave e o seu par de coordenadas como valor. ex: {1 : [41800.0000, 82650.0000], 2 : [41966.6667, 82533.3333], 3 : [41983.3333, 82933.3333]}.\n",
    "Já o caminho é representado pela lista chamada \"path\". \n",
    "\n",
    "\n",
    "\n",
    "### ii) Propor e implementar uma heurística de busca local para achar uma solução de melhor qualidade que a encontrada no item i). Descrever o mecanismo de busca local adotado e implemente.\n",
    "Como algoritmo de busca local eu utilizei o Simulated Annealing usando a técnica 2-opt para variar a solução, e resfriamento linear. Ou seja, a partir de uma solução corrente o algoritmo sorteia dois índices para inverter as cidades entre eles. Mas antes de inverter de fato, a função \"swap_cost\" estima a diferença de custo dessa mudança, caso ela reduza o custo do caminho a mudança é efetuada, caso contrário sorteamos a probabilidade de aceitar essa solução pior por meio da temperatura e amplitude da piora. Esse processo continua até que uma das condições de parada seja atingida: temperatura atinge o zero, número máximo de iterações, ou número máximo de pioras consecutivas."
   ]
  },
  {
   "cell_type": "markdown",
   "metadata": {},
   "source": [
    "## Implementação"
   ]
  },
  {
   "cell_type": "code",
   "execution_count": 15,
   "metadata": {},
   "outputs": [],
   "source": [
    "import tsplib95 \n",
    "import networkx as nx\n",
    "import numpy as np\n",
    "np.random.seed(42)\n",
    "\n",
    "class TSPSolver:\n",
    "    def solve(self,nodes):\n",
    "        self.nodes = nodes\n",
    "        initial_solution = self.initial_solution()\n",
    "        best_solution = self.local_search(initial_solution)\n",
    "\n",
    "    def initial_solution(self):\n",
    "        n = len(self.nodes)\n",
    "        path = np.random.permutation(np.arange(1,n+1,1)) \n",
    "\n",
    "        cost = self.cost(path)\n",
    "        solution = {\"path\":path} | cost\n",
    "        return solution\n",
    "\n",
    "    def local_search(self, current_solution):\n",
    "        self.simulated_annealing(current_solution)\n",
    "\n",
    "    def simulated_annealing(self, current_solution):\n",
    "        current_path = current_solution[\"path\"]\n",
    "        current_eval = current_solution[\"total_cost\"]\n",
    "        initial_eval = current_eval\n",
    "        cooling_rate = 0.05\n",
    "        non_improov = 0\n",
    "        max_non_improov = 1_000\n",
    "        max_iterations = 50_000\n",
    "        temperature = 50_000\n",
    "\n",
    "        n = len(current_path)\n",
    "        i = 0\n",
    "\n",
    "        while non_improov < max_non_improov and temperature > 1 and i < max_iterations:\n",
    "            i += 1\n",
    "            i,j = np.random.choice(range(1,n-1),size=2,replace=False)\n",
    "            bounds = (i,j) if i<j else (j,i)\n",
    "            swap_cost = self.swap_cost(current_path,bounds)\n",
    "\n",
    "            # print(self.check_eval(current_eval,current_path, swap_cost))\n",
    "            if swap_cost < 0:\n",
    "                non_improov = 0\n",
    "                current_path = self.swap_n_reverse(current_path, bounds)\n",
    "                current_eval += swap_cost\n",
    "            else:\n",
    "                non_improov += 1\n",
    "                accepting_prob = np.exp(-swap_cost/temperature)\n",
    "                if np.random.uniform() < accepting_prob:\n",
    "                    current_path = self.swap_n_reverse(current_path, bounds)\n",
    "                    current_eval += swap_cost\n",
    "                \n",
    "            temperature -= cooling_rate\n",
    "\n",
    "    \n",
    "        print(f\"i: {i}, Non-improvments: {non_improov}, temperature: {temperature}\")\n",
    "        print(f\"initial cost:{initial_eval}; current cost: {current_eval}; {current_eval/initial_eval}\") #% \\n ({i,j})\")\n",
    "\n",
    "    def node_distance(self,a,b):\n",
    "        distance = self.distance(self.nodes[a], self.nodes[b])\n",
    "        return distance\n",
    "\n",
    "    def distance(self, a, b):\n",
    "        #todo: check performance\n",
    "        return np.sqrt(\n",
    "        (a[0] - b[0])**2 + (a[1] - b[1])**2\n",
    "        )\n",
    "\n",
    "        \n",
    "    def swap_n_reverse(self, path, bounds):\n",
    "        new_path = np.copy(path)\n",
    "        i,j = bounds\n",
    "        new_path[i:j] = new_path[i:j][::-1]\n",
    "\n",
    "        return new_path\n",
    "\n",
    "\n",
    "    def check_eval(self, current_eval,current_path, swap_cost, bounds):\n",
    "        calculated_cost = self.cost(current_path)[\"total_cost\"]\n",
    "        diff = calculated_cost - current_eval + 0.0000001\n",
    "        print(f\"i,j: {bounds}\")\n",
    "        print(f\"\\n swap/diff: {swap_cost/diff} \\n eval: {current_eval}; calculated: {calculated_cost}; diff: {diff} diff% {current_eval/calculated_cost}\")\n",
    "\n",
    "        return ((calculated_cost - current_eval)**2)**0.5 < 100\n",
    "\n",
    "\n",
    "    def swap_cost(self, path, bounds):\n",
    "        i,j = bounds\n",
    "        n1,n2 = path[i-1], path[i]\n",
    "        n3,n4 = path[j-1], path[j]\n",
    "\n",
    "        d = self.node_distance\n",
    "        cost = - ((d(n1,n2) - d(n1,n3)) + (d(n3,n4) - d(n2,n4)))\n",
    "\n",
    "        return cost\n",
    "            \n",
    "  \n",
    "    def cost(self, path):\n",
    "        n = len(path)\n",
    "        cost = np.array([self.distance(self.nodes[path[i]],self.nodes[path[i+1]]) for i in range(n-1)])\n",
    "        total_cost = sum(cost)\n",
    "\n",
    "        return {\"cost\":cost, \"total_cost\":total_cost}\n",
    "\n",
    "solver = TSPSolver()"
   ]
  },
  {
   "cell_type": "markdown",
   "metadata": {},
   "source": [
    "# Teste Pequeno"
   ]
  },
  {
   "cell_type": "markdown",
   "metadata": {},
   "source": [
    "# Testes em Cases"
   ]
  },
  {
   "cell_type": "markdown",
   "metadata": {},
   "source": [
    "## [ca4636](https://www.math.uwaterloo.ca/tsp/world/calog.html) - 4.636 Cidades Canadenses \n",
    "![image](./capoints.gif)"
   ]
  },
  {
   "cell_type": "code",
   "execution_count": 9,
   "metadata": {},
   "outputs": [
    {
     "name": "stdout",
     "output_type": "stream",
     "text": [
      "i: 4094, Non-improvments: 2, temperature: 1.0\n",
      "initial cost:129178026.90957189; current cost: 56314539.93578642; 0.43594519349028393\n"
     ]
    }
   ],
   "source": [
    "\n",
    "canada = tsplib95.load(\"ca4663.tsp\")\n",
    "ca_nodes = canada.node_coords\n",
    "\n",
    "solver.solve(ca_nodes)"
   ]
  },
  {
   "cell_type": "markdown",
   "metadata": {},
   "source": [
    "| Solução inicial | Melhor solução encontrada  | Solução ótima |\n",
    "|-----------------|----------------------------|---------------|\n",
    "| 129.178.027     | 56.314.540                 | 1.290.319     |"
   ]
  },
  {
   "cell_type": "markdown",
   "metadata": {},
   "source": [
    "## [FI10639](https://www.math.uwaterloo.ca/tsp/world/calog.html) - 10.639 Cidades Finlandesas  \n",
    "<!-- ![image](./fipoints.gif) -->\n",
    "<img src=\"fipoints.gif\" alt=\"drawing\" width=\"400\"/>"
   ]
  },
  {
   "cell_type": "code",
   "execution_count": 14,
   "metadata": {},
   "outputs": [
    {
     "name": "stdout",
     "output_type": "stream",
     "text": [
      "i: 5035, Non-improvments: 5, temperature: 1.0\n",
      "initial cost:42643565.392902374; current cost: 33676358.54141868; 0.7897172347372201\n"
     ]
    }
   ],
   "source": [
    "\n",
    "finland = tsplib95.load(\"./fi10639.tsp\")\n",
    "fi_nodes = finland.node_coords\n",
    "\n",
    "solver.solve(fi_nodes)"
   ]
  },
  {
   "cell_type": "markdown",
   "metadata": {},
   "source": [
    "| Solução inicial | Melhor solução encontrada  | Solução ótima |\n",
    "|-----------------|----------------------------|---------------|\n",
    "| 42.643.565      | 33.676.358                 |  557.315      |"
   ]
  },
  {
   "cell_type": "markdown",
   "metadata": {},
   "source": [
    "## [IT16862](https://www.math.uwaterloo.ca/tsp/world/calog.html) - 16.862 Cidades Italianas\n",
    "![image](./itpoints.gif)"
   ]
  },
  {
   "cell_type": "code",
   "execution_count": 12,
   "metadata": {},
   "outputs": [
    {
     "name": "stdout",
     "output_type": "stream",
     "text": [
      "i: 1651, Non-improvments: 2, temperature: 1.0\n",
      "initial cost:70527061.41517045; current cost: 59396227.528210446; 0.8421764119529054\n"
     ]
    }
   ],
   "source": [
    "\n",
    "italy = tsplib95.load(\"./it16862.tsp\")\n",
    "it_nodes = italy.node_coords\n",
    "\n",
    "solver.solve(it_nodes)"
   ]
  },
  {
   "cell_type": "markdown",
   "metadata": {},
   "source": [
    "| Solução inicial | Melhor solução encontrada  | Solução ótima |\n",
    "|-----------------|----------------------------|---------------|\n",
    "| 70.527.061      | 59.396.227                 | 557.315       |"
   ]
  }
 ],
 "metadata": {
  "kernelspec": {
   "display_name": "Python 3.9.7 ('base')",
   "language": "python",
   "name": "python3"
  },
  "language_info": {
   "codemirror_mode": {
    "name": "ipython",
    "version": 3
   },
   "file_extension": ".py",
   "mimetype": "text/x-python",
   "name": "python",
   "nbconvert_exporter": "python",
   "pygments_lexer": "ipython3",
   "version": "3.9.7"
  },
  "orig_nbformat": 4,
  "vscode": {
   "interpreter": {
    "hash": "7430bd742c5551715659a7cd2990148b3a3d3e30f9dfb052e3eed9d52fc48a1e"
   }
  }
 },
 "nbformat": 4,
 "nbformat_minor": 2
}
