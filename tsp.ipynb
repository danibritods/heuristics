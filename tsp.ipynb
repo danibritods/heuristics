{
 "cells": [
  {
   "cell_type": "code",
   "execution_count": 139,
   "metadata": {},
   "outputs": [],
   "source": [
    "import tsplib95 \n",
    "import networkx as nx\n",
    "import numpy as np\n",
    "np.random.seed(42)\n",
    "\n",
    "problem = tsplib95.load(\"ca4663.tsp\")\n",
    "nodes = problem.node_coords"
   ]
  },
  {
   "cell_type": "code",
   "execution_count": 58,
   "metadata": {},
   "outputs": [
    {
     "data": {
      "text/plain": [
       "dict_keys(['name', 'comment', 'type', 'dimension', 'edge_weight_type', 'node_coords'])"
      ]
     },
     "execution_count": 58,
     "metadata": {},
     "output_type": "execute_result"
    }
   ],
   "source": [
    "problem.as_name_dict().keys()"
   ]
  },
  {
   "cell_type": "code",
   "execution_count": 895,
   "metadata": {},
   "outputs": [],
   "source": [
    "np.random.seed(42)\n",
    "class TSPSolver:\n",
    "    def solve(self,nodes):\n",
    "        self.nodes = nodes\n",
    "        initial_solution = self.initial_solution()\n",
    "        best_solution = self.local_search(initial_solution)\n",
    "\n",
    "    def initial_solution(self):\n",
    "        \"\"\"path is the node_codes in order, cost is the from previous to current node.\"\"\"\n",
    "        n = len(self.nodes)\n",
    "        # path = np.random.permutation(np.arange(1,n+1,1)) \n",
    "\n",
    "        path = list(self.nodes.keys())\n",
    "        cost = self.cost(path)\n",
    "        solution = {\"path\":path} | cost\n",
    "        return solution\n",
    "\n",
    "    def local_search(self, current_solution):\n",
    "        self.simulated_annealing(current_solution)\n",
    "\n",
    "    def simulated_annealing(self, current_solution):\n",
    "        current_path = current_solution[\"path\"]\n",
    "        current_eval = current_solution[\"total_cost\"]\n",
    "        initial_eval = current_eval\n",
    "        cooling_rate = 100\n",
    "        non_improov = 0\n",
    "        max_non_improov = 10\n",
    "\n",
    "        temperature = 6000\n",
    "        n = len(current_path)\n",
    "\n",
    "        # while non_improov < max_non_improov and temperature > 0:\n",
    "        i,j = np.random.choice(range(1,n-1),size=2,replace=False)\n",
    "        bounds = (i,j) if i<j else (j,i)\n",
    "        swap_cost = self.swap_cost(current_path,bounds)\n",
    "\n",
    "        if swap_cost < 0:\n",
    "            current_path = self.swap_n_reverse(current_path, (i,j))\n",
    "            current_eval += swap_cost\n",
    "            # else:\n",
    "            #     non_improov += 1\n",
    "            #     accepting_prob = np.e**(swap_cost/temperature)\n",
    "            #     if np.random.uniform() < accepting_prob:\n",
    "            #         current_path = self.swap_n_reverse(current_path, (i,j))\n",
    "            #         current_eval += swap_cost\n",
    "                \n",
    "            # temperature -= cooling_rate\n",
    "\n",
    "    \n",
    "        print(self.check_eval(current_eval,current_path, swap_cost))\n",
    "        print(f\"initial cost:{initial_eval}; current cost: {current_eval}; {current_eval/initial_eval}% \\n ({i,j})\")\n",
    "\n",
    "    def node_distance(self,a,b):\n",
    "        distance = self.distance(self.nodes[a], self.nodes[b])\n",
    "        return distance\n",
    "\n",
    "    def distance(self, a, b):\n",
    "        #todo: check performance\n",
    "        return np.sqrt(\n",
    "        (a[0] - b[0])**2 + (a[1] - b[1])**2\n",
    "        )\n",
    "\n",
    "        \n",
    "    def swap_n_reverse(self, path, bounds):\n",
    "        new_path = np.copy(path)\n",
    "        i,j = bounds\n",
    "        new_path[i:j] = new_path[i:j][::-1]\n",
    "\n",
    "        return new_path\n",
    "\n",
    "\n",
    "    def check_eval(self, current_eval,current_path, swap_cost):\n",
    "        calculated_cost = self.cost(current_path)[\"total_cost\"]\n",
    "        diff = calculated_cost - current_eval + 0.0000001\n",
    "        print(f\"\\n swap/diff: {swap_cost/diff} \\n eval: {current_eval}; calculated: {calculated_cost}; diff: {diff} diff% {current_eval/calculated_cost}\")\n",
    "\n",
    "        return ((calculated_cost - current_eval)**2)**0.5 < 100\n",
    "\n",
    "\n",
    "    def swap_cost(self, path, bounds):\n",
    "        i,j = bounds\n",
    "        n1,n2 = path[i-1], path[i]\n",
    "        n3,n4 = path[j-1], path[j]\n",
    "\n",
    "        d = self.node_distance\n",
    "        cost = - ((d(n1,n2) - d(n1,n3)) + (d(n3,n4) - d(n2,n4)))\n",
    "\n",
    "        # test_path = np.copy(path[i-1:j+1])\n",
    "        # calc_cost_before = self.cost(test_path)[\"total_cost\"]\n",
    "        # test_path[1:-1] = test_path[1:-1][::-1]\n",
    "        # calc_cost_after = self.cost(test_path)[\"total_cost\"]\n",
    "        # calc_cost = calc_cost_before - calc_cost_after\n",
    "\n",
    "        # curr_cost = d(path[i-1],path[i]) + d(path[j],path[j+1])\n",
    "        # new_cost = d(path[i-1],path[j]) + d(path[i],path[j+1])\n",
    "        # swap_cost = new_cost - curr_cost\n",
    "\n",
    "        # print(f\"swap_cost: {cost}; cost_calc: {calc_cost}; %{cost/calc_cost}\")\n",
    "\n",
    "        return cost\n",
    "            \n",
    "  \n",
    "    def cost(self, path):\n",
    "        n = len(path)\n",
    "        cost = np.array([self.distance(self.nodes[path[i]],self.nodes[path[i+1]]) for i in range(n-1)])\n",
    "        total_cost = sum(cost)\n",
    "        # cost = np.zeros(n)\n",
    "        # list(map(self.distance, path))\n",
    "        # cost = [ self.di\n",
    "        # stance(a,b) for a,b in path]\n",
    "        return {\"cost\":cost, \"total_cost\":total_cost}"
   ]
  },
  {
   "cell_type": "code",
   "execution_count": 896,
   "metadata": {},
   "outputs": [
    {
     "name": "stdout",
     "output_type": "stream",
     "text": [
      "\n",
      " swap/diff: 516498413.3771401 \n",
      " eval: 2707.175792921981; calculated: 2707.175792921981; diff: 1e-07 diff% 1.0\n",
      "True\n",
      "initial cost:2655.525951584267; current cost: 2707.175792921981; 1.0194499478745067% \n",
      " ((2, 6))\n"
     ]
    }
   ],
   "source": [
    "np.random.seed(42)\n",
    "dic = {k:v for k,v in list(nodes.items())[:10]}\n",
    "solver = TSPSolver()\n",
    "# solver.swap_n_reverse(a)\n",
    "# solver.solve(dic)\n",
    "# solver.solve(nodes)\n",
    "# d_l = list(dic.keys())\n",
    "# solver.swap_n_reverse(d_l,(1,8))\n",
    "# solver.nodes = dic\n",
    "# solver.swap_cost(list(dic.keys()),[2,3])\n",
    "solver.solve(dic)\n"
   ]
  },
  {
   "cell_type": "code",
   "execution_count": 888,
   "metadata": {},
   "outputs": [
    {
     "data": {
      "text/plain": [
       "2707.175792921981"
      ]
     },
     "execution_count": 888,
     "metadata": {},
     "output_type": "execute_result"
    }
   ],
   "source": [
    "# node = (1,0)\n",
    "# edges = problem.get_edges()\n",
    "# node = next(edges)\n",
    "# while node[0] == 1:\n",
    "#     node = next(edges)\n",
    "#     print(node)\n",
    "#All the nodes are connected\n",
    "# d_l\n",
    "# aa = [1,2,3,4,5]\n",
    "# aa[2:4]\n",
    "# np.array(aa)[2:4]\n",
    "\n",
    "array = [1, 2, 3, 4, 5, 6, 7, 8, 9, 10]\n",
    "array_s = [ 1,  2,  6,  5,  4,  3,  7,  8,  9, 10]\n",
    "\n",
    "true_diff = solver.cost(array)[\"total_cost\"] - solver.cost(array_s)[\"total_cost\"]\n",
    "swap_cost = solver.swap_cost(array,(2,6)) \n",
    "# print(swap_cost, true_diff, swap_cost / true_diff, (solver.swap_n_reverse(array,(2,6)) == array_s).all())\n",
    "\n",
    "solver.cost(array)[\"total_cost\"] - swap_cost"
   ]
  },
  {
   "cell_type": "code",
   "execution_count": 434,
   "metadata": {},
   "outputs": [
    {
     "name": "stdout",
     "output_type": "stream",
     "text": [
      "5.656854249492381 11.31370849898476 -5.65685424949238 -5.656854249492379 11.31370849898476\n"
     ]
    }
   ],
   "source": [
    "p1 = (1,1)\n",
    "p2 = (2,2)\n",
    "p3 = (3,3)\n",
    "p4 = (4,4)\n",
    "p5 = (5,5)\n",
    "e1 = (p1,p2)\n",
    "e2 = (p2,p3)\n",
    "e3 = (p3, p4)\n",
    "e4 = (p4, p5)\n",
    "d = solver.distance\n",
    "original = solver.distance(p1, p2) + solver.distance(p2, p3) + solver.distance(p3, p4) + solver.distance(p4, p5)\n",
    "changed = solver.distance(p1, p4) + solver.distance(p4, p3) + solver.distance(p3, p2) + solver.distance(p2, p5)\n",
    "diff = (d(p1,p2) - d(p1,p4)) + (d(p4,p5)-d(p2,p5))\n",
    "\n",
    "print(original, changed, diff, original - changed, original - diff)"
   ]
  },
  {
   "cell_type": "code",
   "execution_count": 36,
   "metadata": {},
   "outputs": [
    {
     "data": {
      "text/plain": [
       "{'b': 2}"
      ]
     },
     "execution_count": 36,
     "metadata": {},
     "output_type": "execute_result"
    }
   ],
   "source": [
    "d = {\"a\":1, \"b\":2}\n",
    "d.pop(\"a\")\n",
    "d"
   ]
  },
  {
   "cell_type": "code",
   "execution_count": 715,
   "metadata": {},
   "outputs": [
    {
     "name": "stdout",
     "output_type": "stream",
     "text": [
      "old: 3947.233677818809 cost: 3947.2336778188087;\n",
      "\n",
      " swap/diff: -0.762032254764082 \n",
      " eval: 47851477.10356175; calculated: 47846297.22613108; diff: -5179.8774305699635 diff% 1.0001082607794327\n",
      "False\n",
      "initial cost:47847529.86988393; current cost: 47851477.10356175; 1.0000824960805408% \n",
      " ((3117, 3238))\n"
     ]
    }
   ],
   "source": [
    "solver = TSPSolver()\n",
    "solver.solve(nodes)"
   ]
  }
 ],
 "metadata": {
  "kernelspec": {
   "display_name": "Python 3.9.7 ('base')",
   "language": "python",
   "name": "python3"
  },
  "language_info": {
   "codemirror_mode": {
    "name": "ipython",
    "version": 3
   },
   "file_extension": ".py",
   "mimetype": "text/x-python",
   "name": "python",
   "nbconvert_exporter": "python",
   "pygments_lexer": "ipython3",
   "version": "3.9.7"
  },
  "orig_nbformat": 4,
  "vscode": {
   "interpreter": {
    "hash": "7430bd742c5551715659a7cd2990148b3a3d3e30f9dfb052e3eed9d52fc48a1e"
   }
  }
 },
 "nbformat": 4,
 "nbformat_minor": 2
}
