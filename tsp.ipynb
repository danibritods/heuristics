{
 "cells": [
  {
   "cell_type": "code",
   "execution_count": 139,
   "metadata": {},
   "outputs": [],
   "source": [
    "import tsplib95 \n",
    "import networkx as nx\n",
    "import numpy as np\n",
    "np.random.seed(42)\n",
    "\n",
    "problem = tsplib95.load(\"ca4663.tsp\")\n",
    "nodes = problem.node_coords"
   ]
  },
  {
   "cell_type": "code",
   "execution_count": 58,
   "metadata": {},
   "outputs": [
    {
     "data": {
      "text/plain": [
       "dict_keys(['name', 'comment', 'type', 'dimension', 'edge_weight_type', 'node_coords'])"
      ]
     },
     "execution_count": 58,
     "metadata": {},
     "output_type": "execute_result"
    }
   ],
   "source": [
    "problem.as_name_dict().keys()"
   ]
  },
  {
   "cell_type": "code",
   "execution_count": 831,
   "metadata": {},
   "outputs": [],
   "source": [
    "class TSPSolver:\n",
    "    def solve(self,nodes):\n",
    "        self.nodes = nodes\n",
    "        initial_solution = self.initial_solution()\n",
    "        best_solution = self.local_search(initial_solution)\n",
    "\n",
    "    def initial_solution(self):\n",
    "        \"\"\"path is the node_codes in order, cost is the from previous to current node.\"\"\"\n",
    "        n = len(self.nodes)\n",
    "        # path = np.random.permutation(np.arange(1,n+1,1)) \n",
    "\n",
    "        path = list(self.nodes.keys())\n",
    "        cost = self.cost(path)\n",
    "        solution = {\"path\":path} | cost\n",
    "        return solution\n",
    "\n",
    "    def local_search(self, current_solution):\n",
    "        self.simulated_annealing(current_solution)\n",
    "\n",
    "    def simulated_annealing(self, current_solution):\n",
    "        current_path = current_solution[\"path\"]\n",
    "        current_eval = current_solution[\"total_cost\"]\n",
    "        initial_eval = current_eval\n",
    "        cooling_rate = 100\n",
    "        non_improov = 0\n",
    "        max_non_improov = 10\n",
    "\n",
    "        temperature = 6000\n",
    "        n = len(current_path)\n",
    "\n",
    "        while non_improov < max_non_improov and temperature > 0:\n",
    "            i,j = np.random.choice(range(1,n-1),size=2,replace=False)\n",
    "            bounds = (i,j) if i<j else (j,i)\n",
    "            swap_cost = self.swap_cost(current_path,bounds)\n",
    "\n",
    "            if swap_cost < 0:\n",
    "                current_path = self.swap_n_reverse(current_path, (i,j))\n",
    "                current_eval += swap_cost\n",
    "            else:\n",
    "                non_improov += 1\n",
    "                accepting_prob = np.e**(swap_cost/temperature)\n",
    "                if np.random.uniform() < accepting_prob:\n",
    "                    current_path = self.swap_n_reverse(current_path, (i,j))\n",
    "                    current_eval += swap_cost\n",
    "                \n",
    "            temperature -= cooling_rate\n",
    "\n",
    "    \n",
    "        print(self.check_eval(current_eval,current_path, swap_cost))\n",
    "        print(f\"initial cost:{initial_eval}; current cost: {current_eval}; {current_eval/initial_eval}% \\n ({i,j})\")\n",
    "\n",
    "    def node_distance(self,a,b):\n",
    "        distance = self.distance(self.nodes[a], self.nodes[b])\n",
    "        return distance\n",
    "\n",
    "    def distance(self, a, b):\n",
    "        #todo: check performance\n",
    "        return np.sqrt(\n",
    "        (a[0] - b[0])**2 + (a[1] - b[1])**2\n",
    "        )\n",
    "\n",
    "        \n",
    "    def swap_n_reverse(self, path, bounds):\n",
    "        new_path = np.copy(path)\n",
    "        i,j = bounds\n",
    "        new_path[i:j] = new_path[i:j][::-1]\n",
    "\n",
    "        return new_path\n",
    "\n",
    "\n",
    "    def check_eval(self, current_eval,current_path, swap_cost):\n",
    "        calculated_cost = self.cost(current_path)[\"total_cost\"]\n",
    "        diff = calculated_cost - current_eval + 0.0000001\n",
    "        print(f\"\\n swap/diff: {swap_cost/diff} \\n eval: {current_eval}; calculated: {calculated_cost}; diff: {diff} diff% {current_eval/calculated_cost}\")\n",
    "\n",
    "        return ((calculated_cost - current_eval)**2)**0.5 < 100\n",
    "\n",
    "\n",
    "    def swap_cost(self, path, bounds):\n",
    "        i,j = bounds\n",
    "        n1,n2 = path[i-1], path[i]\n",
    "        n3,n4 = path[j-1], path[j]\n",
    "\n",
    "        d = self.node_distance\n",
    "        cost = (d(n1,n2) - d(n1,n3)) + (d(n3,n4) - d(n2,n4))\n",
    "\n",
    "        # test_path = np.copy(path[i-1:j+1])\n",
    "        # calc_cost_before = self.cost(test_path)[\"total_cost\"]\n",
    "        # test_path[1:-1] = test_path[1:-1][::-1]\n",
    "        # calc_cost_after = self.cost(test_path)[\"total_cost\"]\n",
    "        # calc_cost = calc_cost_before - calc_cost_after\n",
    "\n",
    "        # curr_cost = d(path[i-1],path[i]) + d(path[j],path[j+1])\n",
    "        # new_cost = d(path[i-1],path[j]) + d(path[i],path[j+1])\n",
    "        # swap_cost = new_cost - curr_cost\n",
    "\n",
    "        # print(f\"swap_cost: {cost}; cost_calc: {calc_cost}; %{cost/calc_cost}\")\n",
    "\n",
    "        return cost\n",
    "            \n",
    "  \n",
    "    def cost(self, path):\n",
    "        n = len(path)\n",
    "        cost = np.array([self.distance(self.nodes[path[i]],self.nodes[path[i+1]]) for i in range(n-1)])\n",
    "        total_cost = sum(cost)\n",
    "        # cost = np.zeros(n)\n",
    "        # list(map(self.distance, path))\n",
    "        # cost = [ self.di\n",
    "        # stance(a,b) for a,b in path]\n",
    "        return {\"cost\":cost, \"total_cost\":total_cost}"
   ]
  },
  {
   "cell_type": "code",
   "execution_count": 837,
   "metadata": {},
   "outputs": [
    {
     "name": "stdout",
     "output_type": "stream",
     "text": [
      "swap_cost: -51.64984133771401; cost_calc: -51.64984133771395; %1.000000000000001\n"
     ]
    },
    {
     "data": {
      "text/plain": [
       "True"
      ]
     },
     "execution_count": 837,
     "metadata": {},
     "output_type": "execute_result"
    }
   ],
   "source": [
    "# node = (1,0)\n",
    "# edges = problem.get_edges()\n",
    "# node = next(edges)\n",
    "# while node[0] == 1:\n",
    "#     node = next(edges)\n",
    "#     print(node)\n",
    "#All the nodes are connected\n",
    "# d_l\n",
    "# aa = [1,2,3,4,5]\n",
    "# aa[2:4]\n",
    "# np.array(aa)[2:4]\n",
    "\n",
    "array = [1, 2, 3, 4, 5, 6, 7, 8, 9, 10]\n",
    "array_s = [ 1,  2,  6,  5,  4,  3,  7,  8,  9, 10]\n",
    " \n",
    "solver.swap_cost(array,(2,6)) == solver.cost(array)[\"total_cost\"] - solver.cost(array_s)[\"total_cost\"]\n"
   ]
  },
  {
   "cell_type": "code",
   "execution_count": 832,
   "metadata": {},
   "outputs": [
    {
     "name": "stdout",
     "output_type": "stream",
     "text": [
      "swap_cost: -57189.7228293698; cost_calc: -57189.722829375416; %0.9999999999999017\n",
      "swap_cost: -7911.043838678057; cost_calc: -7911.04383867234; %1.0000000000007228\n",
      "swap_cost: -18067.95265807181; cost_calc: -18067.952658071794; %1.0000000000000009\n",
      "swap_cost: -19120.908388323864; cost_calc: -19120.90838831663; %1.0000000000003781\n",
      "swap_cost: -8242.62204916605; cost_calc: -8242.622049175203; %0.9999999999988896\n",
      "swap_cost: -41930.76632470095; cost_calc: -41930.76632471755; %0.999999999999604\n",
      "swap_cost: -82561.9080875453; cost_calc: -82561.90808754507; %1.0000000000000027\n",
      "swap_cost: -802.6072268013304; cost_calc: -802.6072267889977; %1.000000000015366\n",
      "swap_cost: -2384.5510133333487; cost_calc: -2384.5510133728385; %0.9999999999834394\n",
      "swap_cost: -34978.32958803804; cost_calc: -34978.32958805561; %0.9999999999994976\n",
      "swap_cost: -74.35777341911307; cost_calc: -74.35777341760695; %1.0000000000202551\n",
      "swap_cost: -364.3779610679085; cost_calc: -364.3779610544443; %1.000000000036951\n",
      "swap_cost: -596.7455286000559; cost_calc: -596.7455285917968; %1.0000000000138403\n",
      "swap_cost: -73026.35399125688; cost_calc: -73026.35399125703; %0.999999999999998\n",
      "swap_cost: -5721.687438011611; cost_calc: -5721.687438007444; %1.0000000000007283\n",
      "swap_cost: -1368.0029306587576; cost_calc: -1368.0029306584038; %1.0000000000002587\n",
      "swap_cost: -58402.270993237726; cost_calc: -58402.27099317312; %1.0000000000011062\n",
      "swap_cost: -30269.128615877595; cost_calc: -30269.12861587759; %1.0000000000000002\n",
      "swap_cost: 2505.0969535065324; cost_calc: 2505.096953508444; %0.9999999999992368\n",
      "swap_cost: -74211.48335496022; cost_calc: -74211.48335495964; %1.0000000000000078\n",
      "swap_cost: -305.4545711239161; cost_calc: -305.4545711239043; %1.0000000000000384\n",
      "swap_cost: -5264.178508643996; cost_calc: -5264.178508605808; %1.0000000000072542\n",
      "swap_cost: -7210.198223068277; cost_calc: -7210.198223106563; %0.99999999999469\n",
      "swap_cost: -155.22145079533948; cost_calc: -155.2214508727193; %0.9999999995014877\n",
      "swap_cost: -39651.21562339814; cost_calc: -39651.21562338993; %1.000000000000207\n",
      "swap_cost: -3660.9480820300523; cost_calc: -3660.948082033545; %0.999999999999046\n",
      "swap_cost: -25277.61677090998; cost_calc: -25277.616770900786; %1.0000000000003637\n",
      "swap_cost: 5041.125755122701; cost_calc: 5041.125755128451; %0.9999999999988595\n",
      "swap_cost: -73705.3994994266; cost_calc: -73705.39949950576; %0.999999999998926\n",
      "swap_cost: -57983.6995940495; cost_calc: -57983.69959401339; %1.0000000000006228\n",
      "swap_cost: -1526.969261099915; cost_calc: -1526.9692611051723; %0.999999999996557\n",
      "swap_cost: -58728.56213905369; cost_calc: -58728.56213905616; %0.999999999999958\n",
      "swap_cost: -61239.207467992324; cost_calc: -61239.207468088716; %0.9999999999984259\n",
      "swap_cost: -81245.23054948766; cost_calc: -81245.23054945469; %1.000000000000406\n",
      "swap_cost: -68101.91389862288; cost_calc: -68101.91389860772; %1.0000000000002227\n",
      "swap_cost: -50698.58747425358; cost_calc: -50698.58747425396; %0.9999999999999926\n",
      "swap_cost: -8553.904109374922; cost_calc: -8553.904109369963; %1.0000000000005798\n",
      "swap_cost: -35754.20650869099; cost_calc: -35754.206508699805; %0.9999999999997535\n",
      "swap_cost: -41025.8246744443; cost_calc: -41025.82467434183; %1.0000000000024978\n",
      "swap_cost: -6869.742297210901; cost_calc: -6869.742297209799; %1.0000000000001603\n",
      "swap_cost: -47751.337593305056; cost_calc: -47751.33759330504; %1.0000000000000002\n",
      "swap_cost: -3199.440481053694; cost_calc: -3199.4404810573906; %0.9999999999988446\n",
      "swap_cost: 2429.8728452489013; cost_calc: 2429.8728452436626; %1.000000000002156\n",
      "swap_cost: -712.3620889929098; cost_calc: -712.3620889937738; %0.9999999999987871\n",
      "swap_cost: 11877.908494189249; cost_calc: 11877.908494181931; %1.0000000000006162\n",
      "swap_cost: -15329.6041338639; cost_calc: -15329.604133867659; %0.9999999999997549\n",
      "swap_cost: -10390.654441537154; cost_calc: -10390.654441531748; %1.0000000000005203\n",
      "swap_cost: -46006.65280623917; cost_calc: -46006.65280619264; %1.0000000000010116\n",
      "swap_cost: -90512.93997720725; cost_calc: -90512.93997710943; %1.0000000000010807\n",
      "swap_cost: -27968.054502595114; cost_calc: -27968.054502587765; %1.0000000000002627\n",
      "swap_cost: -41617.87724005857; cost_calc: -41617.87724009156; %0.9999999999992073\n",
      "swap_cost: -113444.12146563726; cost_calc: -113444.12146560475; %1.0000000000002867\n",
      "swap_cost: -1847.672144675813; cost_calc: -1847.6721446476877; %1.000000000015222\n",
      "swap_cost: -33327.33721415688; cost_calc: -33327.33721415512; %1.0000000000000528\n",
      "swap_cost: -24637.254761117332; cost_calc: -24637.254761118442; %0.9999999999999549\n",
      "swap_cost: -34235.24465369141; cost_calc: -34235.244653690606; %1.0000000000000233\n",
      "swap_cost: -15377.593673759115; cost_calc: -15377.593673767522; %0.9999999999994533\n",
      "swap_cost: -66241.56263380531; cost_calc: -66241.56263379008; %1.00000000000023\n",
      "swap_cost: -75715.1632357614; cost_calc: -75715.16323582083; %0.9999999999992151\n",
      "swap_cost: 18498.724730806145; cost_calc: 18498.724730797112; %1.0000000000004883\n",
      "\n",
      " swap/diff: 0.008287306577190871 \n",
      " eval: 46095384.82432065; calculated: 48327560.569056615; diff: 2232175.7447360638 diff% 0.953811536968717\n",
      "False\n",
      "initial cost:47847529.86988393; current cost: 46095384.82432065; 0.9633806583050777% \n",
      " ((3365, 705))\n"
     ]
    }
   ],
   "source": [
    "solver = TSPSolver()\n",
    "# solver.swap_n_reverse(a)\n",
    "# solver.solve(dic)\n",
    "# solver.solve(nodes)\n",
    "# d_l = list(dic.keys())\n",
    "# solver.swap_n_reverse(d_l,(1,8))\n",
    "# solver.nodes = dic\n",
    "# solver.swap_cost(list(dic.keys()),[2,3])\n",
    "solver.solve(nodes)\n"
   ]
  },
  {
   "cell_type": "code",
   "execution_count": 434,
   "metadata": {},
   "outputs": [
    {
     "name": "stdout",
     "output_type": "stream",
     "text": [
      "5.656854249492381 11.31370849898476 -5.65685424949238 -5.656854249492379 11.31370849898476\n"
     ]
    }
   ],
   "source": [
    "p1 = (1,1)\n",
    "p2 = (2,2)\n",
    "p3 = (3,3)\n",
    "p4 = (4,4)\n",
    "p5 = (5,5)\n",
    "e1 = (p1,p2)\n",
    "e2 = (p2,p3)\n",
    "e3 = (p3, p4)\n",
    "e4 = (p4, p5)\n",
    "d = solver.distance\n",
    "original = solver.distance(p1, p2) + solver.distance(p2, p3) + solver.distance(p3, p4) + solver.distance(p4, p5)\n",
    "changed = solver.distance(p1, p4) + solver.distance(p4, p3) + solver.distance(p3, p2) + solver.distance(p2, p5)\n",
    "diff = (d(p1,p2) - d(p1,p4)) + (d(p4,p5)-d(p2,p5))\n",
    "\n",
    "print(original, changed, diff, original - changed, original - diff)"
   ]
  },
  {
   "cell_type": "code",
   "execution_count": 36,
   "metadata": {},
   "outputs": [
    {
     "data": {
      "text/plain": [
       "{'b': 2}"
      ]
     },
     "execution_count": 36,
     "metadata": {},
     "output_type": "execute_result"
    }
   ],
   "source": [
    "d = {\"a\":1, \"b\":2}\n",
    "d.pop(\"a\")\n",
    "d"
   ]
  },
  {
   "cell_type": "code",
   "execution_count": 715,
   "metadata": {},
   "outputs": [
    {
     "name": "stdout",
     "output_type": "stream",
     "text": [
      "old: 3947.233677818809 cost: 3947.2336778188087;\n",
      "\n",
      " swap/diff: -0.762032254764082 \n",
      " eval: 47851477.10356175; calculated: 47846297.22613108; diff: -5179.8774305699635 diff% 1.0001082607794327\n",
      "False\n",
      "initial cost:47847529.86988393; current cost: 47851477.10356175; 1.0000824960805408% \n",
      " ((3117, 3238))\n"
     ]
    }
   ],
   "source": [
    "solver = TSPSolver()\n",
    "solver.solve(nodes)"
   ]
  }
 ],
 "metadata": {
  "kernelspec": {
   "display_name": "Python 3.9.7 ('base')",
   "language": "python",
   "name": "python3"
  },
  "language_info": {
   "codemirror_mode": {
    "name": "ipython",
    "version": 3
   },
   "file_extension": ".py",
   "mimetype": "text/x-python",
   "name": "python",
   "nbconvert_exporter": "python",
   "pygments_lexer": "ipython3",
   "version": "3.9.7"
  },
  "orig_nbformat": 4,
  "vscode": {
   "interpreter": {
    "hash": "7430bd742c5551715659a7cd2990148b3a3d3e30f9dfb052e3eed9d52fc48a1e"
   }
  }
 },
 "nbformat": 4,
 "nbformat_minor": 2
}
